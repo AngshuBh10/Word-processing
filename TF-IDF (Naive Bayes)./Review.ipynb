{
 "cells": [
  {
   "cell_type": "code",
   "execution_count": 1,
   "metadata": {},
   "outputs": [],
   "source": [
    "#Importing models\n",
    "import numpy as np\n",
    "import matplotlib.pyplot as plt\n",
    "import pandas as pd"
   ]
  },
  {
   "cell_type": "code",
   "execution_count": 2,
   "metadata": {},
   "outputs": [],
   "source": [
    "#Training_data\n",
    "training_data=pd.read_csv('Train.csv')"
   ]
  },
  {
   "cell_type": "code",
   "execution_count": 3,
   "metadata": {},
   "outputs": [
    {
     "name": "stderr",
     "output_type": "stream",
     "text": [
      "[nltk_data] Downloading package stopwords to\n",
      "[nltk_data]     C:\\Users\\Angshuman\\AppData\\Roaming\\nltk_data...\n",
      "[nltk_data]   Package stopwords is already up-to-date!\n"
     ]
    },
    {
     "data": {
      "text/plain": [
       "True"
      ]
     },
     "execution_count": 3,
     "metadata": {},
     "output_type": "execute_result"
    }
   ],
   "source": [
    "import re\n",
    "import nltk\n",
    "nltk.download('stopwords')\n"
   ]
  },
  {
   "cell_type": "code",
   "execution_count": 4,
   "metadata": {},
   "outputs": [],
   "source": [
    "from nltk.corpus import stopwords\n",
    "from nltk.stem.porter import PorterStemmer"
   ]
  },
  {
   "cell_type": "code",
   "execution_count": 5,
   "metadata": {},
   "outputs": [],
   "source": [
    "#cleaning text and creating corpus for training data \n",
    "corpus = []\n",
    "for i in range(0, 1000):\n",
    "    review = re.sub('[^a-zA-Z]', ' ', training_data['text'][i])   #Only alphabets are taken(symbols like coma etc removed)\n",
    "    review = review.lower() \n",
    "    review = review.split()                                        \n",
    "    ps = PorterStemmer()                                          #Taking the actual/main word (not its any form)\n",
    "    #review = [ps.stem(word) for word in review if not word in set(stopwords.words('english'))] \n",
    "    review = [ps.stem(word) for word in review]\n",
    "    review = ' '.join(review)\n",
    "    corpus.append(review)"
   ]
  },
  {
   "cell_type": "code",
   "execution_count": 6,
   "metadata": {},
   "outputs": [],
   "source": [
    "for i in range(1000, 2000):\n",
    "    review = re.sub('[^a-zA-Z]', ' ', training_data['text'][i])\n",
    "    review = review.lower()                                       \n",
    "    review = review.split()\n",
    "    ps = PorterStemmer()\n",
    "    #review = [ps.stem(word) for word in review if not word in set(stopwords.words('english'))]\n",
    "    review = [ps.stem(word) for word in review]\n",
    "    review = ' '.join(review)\n",
    "    corpus.append(review)"
   ]
  },
  {
   "cell_type": "code",
   "execution_count": 7,
   "metadata": {},
   "outputs": [],
   "source": [
    "for i in range(2000, 3000):\n",
    "    review = re.sub('[^a-zA-Z]', ' ', training_data['text'][i])\n",
    "    review = review.lower()                                       \n",
    "    review = review.split()\n",
    "    ps = PorterStemmer()\n",
    "    #review = [ps.stem(word) for word in review if not word in set(stopwords.words('english'))]\n",
    "    review = [ps.stem(word) for word in review]\n",
    "    review = ' '.join(review)\n",
    "    corpus.append(review)"
   ]
  },
  {
   "cell_type": "code",
   "execution_count": 8,
   "metadata": {},
   "outputs": [],
   "source": [
    "for i in range(3000, 4000):\n",
    "    review = re.sub('[^a-zA-Z]', ' ', training_data['text'][i])\n",
    "    review = review.lower()                                       \n",
    "    review = review.split()\n",
    "    ps = PorterStemmer()\n",
    "    #review = [ps.stem(word) for word in review if not word in set(stopwords.words('english'))]\n",
    "    review = [ps.stem(word) for word in review]\n",
    "    review = ' '.join(review)\n",
    "    corpus.append(review)"
   ]
  },
  {
   "cell_type": "code",
   "execution_count": 9,
   "metadata": {},
   "outputs": [],
   "source": [
    "for i in range(4000, 5000):\n",
    "    review = re.sub('[^a-zA-Z]', ' ', training_data['text'][i])\n",
    "    review = review.lower()                                       \n",
    "    review = review.split()\n",
    "    ps = PorterStemmer()\n",
    "    #review = [ps.stem(word) for word in review if not word in set(stopwords.words('english'))]\n",
    "    review = [ps.stem(word) for word in review]\n",
    "    review = ' '.join(review)\n",
    "    corpus.append(review)"
   ]
  },
  {
   "cell_type": "code",
   "execution_count": 10,
   "metadata": {},
   "outputs": [],
   "source": [
    "for i in range(5000, 6000):\n",
    "    review = re.sub('[^a-zA-Z]', ' ', training_data['text'][i])\n",
    "    review = review.lower()                                       \n",
    "    review = review.split()\n",
    "    ps = PorterStemmer()\n",
    "    #review = [ps.stem(word) for word in review if not word in set(stopwords.words('english'))]\n",
    "    review = [ps.stem(word) for word in review]\n",
    "    review = ' '.join(review)\n",
    "    corpus.append(review)"
   ]
  },
  {
   "cell_type": "code",
   "execution_count": 11,
   "metadata": {},
   "outputs": [],
   "source": [
    "for i in range(6000, 7000):\n",
    "    review = re.sub('[^a-zA-Z]', ' ', training_data['text'][i])\n",
    "    review = review.lower()                                       \n",
    "    review = review.split()\n",
    "    ps = PorterStemmer()\n",
    "    #review = [ps.stem(word) for word in review if not word in set(stopwords.words('english'))]\n",
    "    review = [ps.stem(word) for word in review]\n",
    "    review = ' '.join(review)\n",
    "    corpus.append(review)"
   ]
  },
  {
   "cell_type": "code",
   "execution_count": 12,
   "metadata": {},
   "outputs": [],
   "source": [
    "for i in range(7000, 8000):\n",
    "    review = re.sub('[^a-zA-Z]', ' ', training_data['text'][i])\n",
    "    review = review.lower()                                       \n",
    "    review = review.split()\n",
    "    ps = PorterStemmer()\n",
    "    #review = [ps.stem(word) for word in review if not word in set(stopwords.words('english'))]\n",
    "    review = [ps.stem(word) for word in review]\n",
    "    review = ' '.join(review)\n",
    "    corpus.append(review)"
   ]
  },
  {
   "cell_type": "code",
   "execution_count": 13,
   "metadata": {},
   "outputs": [],
   "source": [
    "for i in range(8000, 9000):\n",
    "    review = re.sub('[^a-zA-Z]', ' ', training_data['text'][i])\n",
    "    review = review.lower()                                       \n",
    "    review = review.split()\n",
    "    ps = PorterStemmer()\n",
    "    #review = [ps.stem(word) for word in review if not word in set(stopwords.words('english'))]\n",
    "    review = [ps.stem(word) for word in review]\n",
    "    review = ' '.join(review)\n",
    "    corpus.append(review)"
   ]
  },
  {
   "cell_type": "code",
   "execution_count": 14,
   "metadata": {},
   "outputs": [],
   "source": [
    "for i in range(9000, 10000):\n",
    "    review = re.sub('[^a-zA-Z]', ' ', training_data['text'][i])\n",
    "    review = review.lower()                                       \n",
    "    review = review.split()\n",
    "    ps = PorterStemmer()\n",
    "    #review = [ps.stem(word) for word in review if not word in set(stopwords.words('english'))]\n",
    "    review = [ps.stem(word) for word in review]\n",
    "    review = ' '.join(review)\n",
    "    corpus.append(review)"
   ]
  },
  {
   "cell_type": "code",
   "execution_count": 15,
   "metadata": {},
   "outputs": [],
   "source": [
    "#Test Data \n",
    "test_data=pd.read_csv('Test.csv')"
   ]
  },
  {
   "cell_type": "code",
   "execution_count": 16,
   "metadata": {},
   "outputs": [],
   "source": [
    "#cleaning text and creating corpus for test data \n",
    "corpus_2 = []\n",
    "for i in range(0, 1000):\n",
    "    review_2 = re.sub('[^a-zA-Z]', ' ', test_data['text'][i])\n",
    "    review_2 = review_2.lower()\n",
    "    review_2 = review_2.split()\n",
    "    ps = PorterStemmer()\n",
    "    #review = [ps.stem(word) for word in review if not word in set(stopwords.words('english'))]\n",
    "    review_2 = [ps.stem(word) for word in review_2]\n",
    "    review_2 = ' '.join(review_2)\n",
    "    corpus_2.append(review_2)"
   ]
  },
  {
   "cell_type": "code",
   "execution_count": 17,
   "metadata": {},
   "outputs": [],
   "source": [
    "for i in range(1000, 2000):\n",
    "    review_2 = re.sub('[^a-zA-Z]', ' ', test_data['text'][i])\n",
    "    review_2 = review_2.lower()\n",
    "    review_2 = review_2.split()\n",
    "    ps = PorterStemmer()\n",
    "    #review = [ps.stem(word) for word in review if not word in set(stopwords.words('english'))]\n",
    "    review_2 = [ps.stem(word) for word in review_2]\n",
    "    review_2 = ' '.join(review_2)\n",
    "    corpus_2.append(review_2)"
   ]
  },
  {
   "cell_type": "code",
   "execution_count": 18,
   "metadata": {},
   "outputs": [],
   "source": [
    "for i in range(2000, 3000):\n",
    "    review_2 = re.sub('[^a-zA-Z]', ' ', test_data['text'][i])\n",
    "    review_2 = review_2.lower()\n",
    "    review_2 = review_2.split()\n",
    "    ps = PorterStemmer()\n",
    "    #review = [ps.stem(word) for word in review if not word in set(stopwords.words('english'))]\n",
    "    review_2 = [ps.stem(word) for word in review_2]\n",
    "    review_2 = ' '.join(review_2)\n",
    "    corpus_2.append(review_2)"
   ]
  },
  {
   "cell_type": "code",
   "execution_count": 19,
   "metadata": {},
   "outputs": [],
   "source": [
    "for i in range(3000, 4000):\n",
    "    review_2 = re.sub('[^a-zA-Z]', ' ', test_data['text'][i])\n",
    "    review_2 = review_2.lower()\n",
    "    review_2 = review_2.split()\n",
    "    ps = PorterStemmer()\n",
    "    #review = [ps.stem(word) for word in review if not word in set(stopwords.words('english'))]\n",
    "    review_2 = [ps.stem(word) for word in review_2]\n",
    "    review_2 = ' '.join(review_2)\n",
    "    corpus_2.append(review_2)"
   ]
  },
  {
   "cell_type": "code",
   "execution_count": 20,
   "metadata": {},
   "outputs": [],
   "source": [
    "for i in range(4000, 5000):\n",
    "    review_2 = re.sub('[^a-zA-Z]', ' ', test_data['text'][i])\n",
    "    review_2 = review_2.lower()\n",
    "    review_2 = review_2.split()\n",
    "    ps = PorterStemmer()\n",
    "    #review = [ps.stem(word) for word in review if not word in set(stopwords.words('english'))]\n",
    "    review_2 = [ps.stem(word) for word in review_2]\n",
    "    review_2 = ' '.join(review_2)\n",
    "    corpus_2.append(review_2)"
   ]
  },
  {
   "cell_type": "code",
   "execution_count": 21,
   "metadata": {},
   "outputs": [],
   "source": [
    "#Creating Bag of Words for training data\n",
    "from sklearn.feature_extraction.text import CountVectorizer\n",
    "cv = CountVectorizer(max_features = 2000,stop_words='english')\n",
    "X_train = cv.fit_transform(corpus).toarray()\n",
    "y_train = training_data.iloc[0:10000, 1].values"
   ]
  },
  {
   "cell_type": "code",
   "execution_count": 22,
   "metadata": {},
   "outputs": [],
   "source": [
    "# Creating Bag of Words for test data\n",
    "from sklearn.feature_extraction.text import CountVectorizer\n",
    "X_test = cv.transform(corpus_2).toarray()\n",
    "y_test = test_data.iloc[0:5000, 1].values"
   ]
  },
  {
   "cell_type": "code",
   "execution_count": 23,
   "metadata": {},
   "outputs": [
    {
     "data": {
      "text/plain": [
       "GaussianNB()"
      ]
     },
     "execution_count": 23,
     "metadata": {},
     "output_type": "execute_result"
    }
   ],
   "source": [
    "# Applying Naive Bayes Model\n",
    "from sklearn.naive_bayes import GaussianNB\n",
    "classifier = GaussianNB()\n",
    "classifier.fit(X_train, y_train)"
   ]
  },
  {
   "cell_type": "code",
   "execution_count": 24,
   "metadata": {},
   "outputs": [],
   "source": [
    "# Predicting for test data\n",
    "y_pred=classifier.predict(X_test)"
   ]
  },
  {
   "cell_type": "code",
   "execution_count": 25,
   "metadata": {},
   "outputs": [],
   "source": [
    "#Confusion Matrix for Naive Bayes Classifier\n",
    "from sklearn.metrics import confusion_matrix\n",
    "cm = confusion_matrix(y_pred,y_test)"
   ]
  },
  {
   "cell_type": "code",
   "execution_count": 26,
   "metadata": {},
   "outputs": [
    {
     "name": "stdout",
     "output_type": "stream",
     "text": [
      "[[2095  970]\n",
      " [ 400 1535]]\n"
     ]
    }
   ],
   "source": [
    "print(cm)"
   ]
  },
  {
   "cell_type": "code",
   "execution_count": 27,
   "metadata": {},
   "outputs": [
    {
     "name": "stdout",
     "output_type": "stream",
     "text": [
      "0.726\n"
     ]
    }
   ],
   "source": [
    "# Finding Accuracy\n",
    "from sklearn import metrics\n",
    "print(metrics.accuracy_score(y_test,y_pred))"
   ]
  },
  {
   "cell_type": "code",
   "execution_count": 28,
   "metadata": {
    "scrolled": true
   },
   "outputs": [],
   "source": [
    "\n",
    "from sklearn.preprocessing import StandardScaler\n",
    "sc = StandardScaler()\n",
    "x_train = sc.fit_transform(X_train)\n",
    "X_test = sc.transform(X_test)"
   ]
  },
  {
   "cell_type": "code",
   "execution_count": 29,
   "metadata": {},
   "outputs": [
    {
     "data": {
      "text/plain": [
       "SVC(kernel='linear', random_state=0)"
      ]
     },
     "execution_count": 29,
     "metadata": {},
     "output_type": "execute_result"
    }
   ],
   "source": [
    "# Applying SVM Model\n",
    "from sklearn.svm import SVC\n",
    "classifier_svm=SVC(kernel='linear',random_state=0)\n",
    "classifier_svm.fit(X_train,y_train)"
   ]
  },
  {
   "cell_type": "code",
   "execution_count": 30,
   "metadata": {},
   "outputs": [],
   "source": [
    "# Predicting the Test set results\n",
    "y_pred = classifier_svm.predict(X_test)"
   ]
  },
  {
   "cell_type": "code",
   "execution_count": 31,
   "metadata": {},
   "outputs": [
    {
     "name": "stdout",
     "output_type": "stream",
     "text": [
      "[[1911  517]\n",
      " [ 584 1988]]\n"
     ]
    }
   ],
   "source": [
    "#Confusion matrix and accuracy for SVM\n",
    "from sklearn.metrics import confusion_matrix\n",
    "cm = confusion_matrix(y_pred,y_test)\n",
    "print(cm)"
   ]
  },
  {
   "cell_type": "code",
   "execution_count": 32,
   "metadata": {},
   "outputs": [
    {
     "name": "stdout",
     "output_type": "stream",
     "text": [
      "0.7798\n"
     ]
    }
   ],
   "source": [
    "# Finding Accuracy for SVM Model\n",
    "from sklearn import metrics\n",
    "print(metrics.accuracy_score(y_test,y_pred))"
   ]
  },
  {
   "cell_type": "code",
   "execution_count": 35,
   "metadata": {},
   "outputs": [],
   "source": [
    "#Creating TF-IDF for training  data\n",
    "from sklearn.feature_extraction.text import TfidfVectorizer\n",
    "tfidf = TfidfVectorizer(max_features=2000,stop_words='english')\n",
    "X = tfidf.fit_transform(corpus).toarray()\n",
    "y = training_data.iloc[0:10000, 1].values"
   ]
  },
  {
   "cell_type": "code",
   "execution_count": 36,
   "metadata": {},
   "outputs": [
    {
     "data": {
      "text/plain": [
       "GaussianNB()"
      ]
     },
     "execution_count": 36,
     "metadata": {},
     "output_type": "execute_result"
    }
   ],
   "source": [
    "# Applying Naive Bayes Model\n",
    "from sklearn.naive_bayes import GaussianNB\n",
    "classifier = GaussianNB()\n",
    "classifier.fit(X, y)"
   ]
  },
  {
   "cell_type": "code",
   "execution_count": 37,
   "metadata": {},
   "outputs": [],
   "source": [
    "#Creating TF-IDF for test  data\n",
    "from sklearn.feature_extraction.text import TfidfVectorizer\n",
    "#tfidf = TfidfVectorizer(stop_words='english')\n",
    "X_test_2 = tfidf.transform(corpus_2).toarray()\n",
    "y_test_2 = test_data.iloc[0:5000, 1].values"
   ]
  },
  {
   "cell_type": "code",
   "execution_count": 38,
   "metadata": {},
   "outputs": [],
   "source": [
    "# Predicting for test data\n",
    "y_pred_2=classifier.predict(X_test_2)"
   ]
  },
  {
   "cell_type": "code",
   "execution_count": 39,
   "metadata": {},
   "outputs": [
    {
     "name": "stdout",
     "output_type": "stream",
     "text": [
      "[[1990  525]\n",
      " [ 505 1980]]\n"
     ]
    }
   ],
   "source": [
    "#Confusion Matrix for Naive Bayes Classifier ( TF-IDF)\n",
    "from sklearn.metrics import confusion_matrix\n",
    "cm_2 = confusion_matrix(y_pred_2,y_test_2)\n",
    "print(cm_2)"
   ]
  },
  {
   "cell_type": "code",
   "execution_count": 41,
   "metadata": {},
   "outputs": [
    {
     "name": "stdout",
     "output_type": "stream",
     "text": [
      "0.794\n"
     ]
    }
   ],
   "source": [
    "# Finding Accuracy (TF-IDF by Naive Bayes)\n",
    "from sklearn import metrics\n",
    "print(metrics.accuracy_score(y_test_2,y_pred_2))"
   ]
  },
  {
   "cell_type": "code",
   "execution_count": null,
   "metadata": {},
   "outputs": [],
   "source": []
  }
 ],
 "metadata": {
  "kernelspec": {
   "display_name": "Python 3",
   "language": "python",
   "name": "python3"
  },
  "language_info": {
   "codemirror_mode": {
    "name": "ipython",
    "version": 3
   },
   "file_extension": ".py",
   "mimetype": "text/x-python",
   "name": "python",
   "nbconvert_exporter": "python",
   "pygments_lexer": "ipython3",
   "version": "3.8.3"
  }
 },
 "nbformat": 4,
 "nbformat_minor": 4
}
