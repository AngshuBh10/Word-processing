{
 "cells": [
  {
   "cell_type": "code",
   "execution_count": 1,
   "metadata": {},
   "outputs": [
    {
     "data": {
      "text/html": [
       "<div>\n",
       "<style scoped>\n",
       "    .dataframe tbody tr th:only-of-type {\n",
       "        vertical-align: middle;\n",
       "    }\n",
       "\n",
       "    .dataframe tbody tr th {\n",
       "        vertical-align: top;\n",
       "    }\n",
       "\n",
       "    .dataframe thead th {\n",
       "        text-align: right;\n",
       "    }\n",
       "</style>\n",
       "<table border=\"1\" class=\"dataframe\">\n",
       "  <thead>\n",
       "    <tr style=\"text-align: right;\">\n",
       "      <th></th>\n",
       "      <th>Unnamed: 0</th>\n",
       "      <th>ID1</th>\n",
       "      <th>Name</th>\n",
       "      <th>ID2</th>\n",
       "      <th>Topic</th>\n",
       "      <th>Review</th>\n",
       "      <th>Rating</th>\n",
       "      <th>Date</th>\n",
       "      <th>Sentiment</th>\n",
       "    </tr>\n",
       "  </thead>\n",
       "  <tbody>\n",
       "    <tr>\n",
       "      <th>0</th>\n",
       "      <td>0</td>\n",
       "      <td>Dz49XFTtSbUtN1cgfZ-9uA</td>\n",
       "      <td>Karen C.</td>\n",
       "      <td>OIdyZ4tieuG0YBbMVjDtcA</td>\n",
       "      <td>Yamo</td>\n",
       "      <td>This is the most awful place I've ever set foo...</td>\n",
       "      <td>1</td>\n",
       "      <td>31-07-2014</td>\n",
       "      <td>0</td>\n",
       "    </tr>\n",
       "    <tr>\n",
       "      <th>1</th>\n",
       "      <td>1</td>\n",
       "      <td>ARXQsXEfamGNn5OCpPosiQ</td>\n",
       "      <td>Mike L.</td>\n",
       "      <td>k9GG1gFhQAQSQAYydjUjSQ</td>\n",
       "      <td>Mikado Sushi</td>\n",
       "      <td>Did happy hour here today. Five stars for bein...</td>\n",
       "      <td>5</td>\n",
       "      <td>04-06-2017</td>\n",
       "      <td>1</td>\n",
       "    </tr>\n",
       "    <tr>\n",
       "      <th>2</th>\n",
       "      <td>2</td>\n",
       "      <td>Ho47TvoR9I-ZxwMAMliwZg</td>\n",
       "      <td>John V.</td>\n",
       "      <td>DEeJ2qcDGZGBS8KJsJGC8w</td>\n",
       "      <td>All Good Pizza</td>\n",
       "      <td>I love the pizzas &amp; sandwiches &amp; beer garden v...</td>\n",
       "      <td>5</td>\n",
       "      <td>03-09-2018</td>\n",
       "      <td>1</td>\n",
       "    </tr>\n",
       "    <tr>\n",
       "      <th>3</th>\n",
       "      <td>3</td>\n",
       "      <td>FI0dcCAuFmW0lutdKO2UwA</td>\n",
       "      <td>Kyle K.</td>\n",
       "      <td>ix9rWyVohyRoAtARuTNOaw</td>\n",
       "      <td>Columbus Cafe</td>\n",
       "      <td>Bartenders here have big tudes but otherwise i...</td>\n",
       "      <td>2</td>\n",
       "      <td>07-07-2009</td>\n",
       "      <td>0</td>\n",
       "    </tr>\n",
       "    <tr>\n",
       "      <th>4</th>\n",
       "      <td>4</td>\n",
       "      <td>Ejgl_zozeJCbTTJyuB1Azw</td>\n",
       "      <td>Nicholas H.</td>\n",
       "      <td>VCjSMI5G99_lPRzichTBhg</td>\n",
       "      <td>Sushi Hon</td>\n",
       "      <td>Came to Sushi Hon as a late Valentine's Day di...</td>\n",
       "      <td>3</td>\n",
       "      <td>21-02-2018</td>\n",
       "      <td>0</td>\n",
       "    </tr>\n",
       "  </tbody>\n",
       "</table>\n",
       "</div>"
      ],
      "text/plain": [
       "   Unnamed: 0                     ID1         Name                     ID2  \\\n",
       "0           0  Dz49XFTtSbUtN1cgfZ-9uA     Karen C.  OIdyZ4tieuG0YBbMVjDtcA   \n",
       "1           1  ARXQsXEfamGNn5OCpPosiQ      Mike L.  k9GG1gFhQAQSQAYydjUjSQ   \n",
       "2           2  Ho47TvoR9I-ZxwMAMliwZg      John V.  DEeJ2qcDGZGBS8KJsJGC8w   \n",
       "3           3  FI0dcCAuFmW0lutdKO2UwA      Kyle K.  ix9rWyVohyRoAtARuTNOaw   \n",
       "4           4  Ejgl_zozeJCbTTJyuB1Azw  Nicholas H.  VCjSMI5G99_lPRzichTBhg   \n",
       "\n",
       "            Topic                                             Review  Rating  \\\n",
       "0            Yamo  This is the most awful place I've ever set foo...       1   \n",
       "1    Mikado Sushi  Did happy hour here today. Five stars for bein...       5   \n",
       "2  All Good Pizza  I love the pizzas & sandwiches & beer garden v...       5   \n",
       "3   Columbus Cafe  Bartenders here have big tudes but otherwise i...       2   \n",
       "4       Sushi Hon  Came to Sushi Hon as a late Valentine's Day di...       3   \n",
       "\n",
       "         Date  Sentiment  \n",
       "0  31-07-2014          0  \n",
       "1  04-06-2017          1  \n",
       "2  03-09-2018          1  \n",
       "3  07-07-2009          0  \n",
       "4  21-02-2018          0  "
      ]
     },
     "execution_count": 1,
     "metadata": {},
     "output_type": "execute_result"
    }
   ],
   "source": [
    "import pandas as pd \n",
    "df=pd.read_csv(\"user_reviews2.csv\") \n",
    "df['Sentiment'] = [1 if x > 3 else 0 for x in df.Rating]\n",
    "df.head()"
   ]
  },
  {
   "cell_type": "code",
   "execution_count": 6,
   "metadata": {},
   "outputs": [
    {
     "data": {
      "text/html": [
       "<div>\n",
       "<style scoped>\n",
       "    .dataframe tbody tr th:only-of-type {\n",
       "        vertical-align: middle;\n",
       "    }\n",
       "\n",
       "    .dataframe tbody tr th {\n",
       "        vertical-align: top;\n",
       "    }\n",
       "\n",
       "    .dataframe thead th {\n",
       "        text-align: right;\n",
       "    }\n",
       "</style>\n",
       "<table border=\"1\" class=\"dataframe\">\n",
       "  <thead>\n",
       "    <tr style=\"text-align: right;\">\n",
       "      <th></th>\n",
       "      <th>Review</th>\n",
       "      <th>Sentiment</th>\n",
       "    </tr>\n",
       "  </thead>\n",
       "  <tbody>\n",
       "    <tr>\n",
       "      <th>0</th>\n",
       "      <td>This is the most awful place I've ever set foo...</td>\n",
       "      <td>0</td>\n",
       "    </tr>\n",
       "    <tr>\n",
       "      <th>1</th>\n",
       "      <td>Did happy hour here today. Five stars for bein...</td>\n",
       "      <td>1</td>\n",
       "    </tr>\n",
       "    <tr>\n",
       "      <th>2</th>\n",
       "      <td>I love the pizzas &amp; sandwiches &amp; beer garden v...</td>\n",
       "      <td>1</td>\n",
       "    </tr>\n",
       "    <tr>\n",
       "      <th>3</th>\n",
       "      <td>Bartenders here have big tudes but otherwise i...</td>\n",
       "      <td>0</td>\n",
       "    </tr>\n",
       "    <tr>\n",
       "      <th>4</th>\n",
       "      <td>Came to Sushi Hon as a late Valentine's Day di...</td>\n",
       "      <td>0</td>\n",
       "    </tr>\n",
       "  </tbody>\n",
       "</table>\n",
       "</div>"
      ],
      "text/plain": [
       "                                              Review  Sentiment\n",
       "0  This is the most awful place I've ever set foo...          0\n",
       "1  Did happy hour here today. Five stars for bein...          1\n",
       "2  I love the pizzas & sandwiches & beer garden v...          1\n",
       "3  Bartenders here have big tudes but otherwise i...          0\n",
       "4  Came to Sushi Hon as a late Valentine's Day di...          0"
      ]
     },
     "execution_count": 6,
     "metadata": {},
     "output_type": "execute_result"
    }
   ],
   "source": [
    "df=df[[\"Review\",\"Sentiment\"]]\n",
    "df.head()"
   ]
  },
  {
   "cell_type": "code",
   "execution_count": 7,
   "metadata": {},
   "outputs": [
    {
     "data": {
      "text/plain": [
       "1    6016\n",
       "0    6016\n",
       "Name: Sentiment, dtype: int64"
      ]
     },
     "execution_count": 7,
     "metadata": {},
     "output_type": "execute_result"
    }
   ],
   "source": [
    "df['Sentiment'].value_counts()"
   ]
  },
  {
   "cell_type": "code",
   "execution_count": 8,
   "metadata": {},
   "outputs": [
    {
     "data": {
      "text/html": [
       "<div>\n",
       "<style scoped>\n",
       "    .dataframe tbody tr th:only-of-type {\n",
       "        vertical-align: middle;\n",
       "    }\n",
       "\n",
       "    .dataframe tbody tr th {\n",
       "        vertical-align: top;\n",
       "    }\n",
       "\n",
       "    .dataframe thead th {\n",
       "        text-align: right;\n",
       "    }\n",
       "</style>\n",
       "<table border=\"1\" class=\"dataframe\">\n",
       "  <thead>\n",
       "    <tr style=\"text-align: right;\">\n",
       "      <th></th>\n",
       "      <th>Review</th>\n",
       "      <th>Sentiment</th>\n",
       "    </tr>\n",
       "  </thead>\n",
       "  <tbody>\n",
       "    <tr>\n",
       "      <th>0</th>\n",
       "      <td>this is the most awful place ive ever set foot...</td>\n",
       "      <td>0</td>\n",
       "    </tr>\n",
       "    <tr>\n",
       "      <th>1</th>\n",
       "      <td>did happy hour here today. five stars for bein...</td>\n",
       "      <td>1</td>\n",
       "    </tr>\n",
       "    <tr>\n",
       "      <th>2</th>\n",
       "      <td>i love the pizzas  sandwiches  beer garden vib...</td>\n",
       "      <td>1</td>\n",
       "    </tr>\n",
       "    <tr>\n",
       "      <th>3</th>\n",
       "      <td>bartenders here have big tudes but otherwise i...</td>\n",
       "      <td>0</td>\n",
       "    </tr>\n",
       "    <tr>\n",
       "      <th>4</th>\n",
       "      <td>came to sushi hon as a late valentines day din...</td>\n",
       "      <td>0</td>\n",
       "    </tr>\n",
       "  </tbody>\n",
       "</table>\n",
       "</div>"
      ],
      "text/plain": [
       "                                              Review  Sentiment\n",
       "0  this is the most awful place ive ever set foot...          0\n",
       "1  did happy hour here today. five stars for bein...          1\n",
       "2  i love the pizzas  sandwiches  beer garden vib...          1\n",
       "3  bartenders here have big tudes but otherwise i...          0\n",
       "4  came to sushi hon as a late valentines day din...          0"
      ]
     },
     "execution_count": 8,
     "metadata": {},
     "output_type": "execute_result"
    }
   ],
   "source": [
    "from bs4 import BeautifulSoup\n",
    "import re\n",
    "                  \n",
    "def utility(text):\n",
    "    text=BeautifulSoup(text,\"html.parser\").get_text()\n",
    "    text=re.sub('\\[[^]]*\\]', '',text)\n",
    "    pattern=r'[^a-zA-z0-9\\s.]'\n",
    "    text=re.sub(pattern,'',text)\n",
    "    return text\n",
    "                  \n",
    "df['Review']=df['Review'].apply(utility)\n",
    "df['Review']=df['Review'].str.lower()\n",
    "df.head()"
   ]
  },
  {
   "cell_type": "code",
   "execution_count": 9,
   "metadata": {},
   "outputs": [
    {
     "data": {
      "text/html": [
       "<div>\n",
       "<style scoped>\n",
       "    .dataframe tbody tr th:only-of-type {\n",
       "        vertical-align: middle;\n",
       "    }\n",
       "\n",
       "    .dataframe tbody tr th {\n",
       "        vertical-align: top;\n",
       "    }\n",
       "\n",
       "    .dataframe thead th {\n",
       "        text-align: right;\n",
       "    }\n",
       "</style>\n",
       "<table border=\"1\" class=\"dataframe\">\n",
       "  <thead>\n",
       "    <tr style=\"text-align: right;\">\n",
       "      <th></th>\n",
       "      <th>Review</th>\n",
       "      <th>Sentiment</th>\n",
       "    </tr>\n",
       "  </thead>\n",
       "  <tbody>\n",
       "    <tr>\n",
       "      <th>0</th>\n",
       "      <td>awful place ive ever set foot in. still cannot...</td>\n",
       "      <td>0</td>\n",
       "    </tr>\n",
       "    <tr>\n",
       "      <th>1</th>\n",
       "      <td>happy hour today. five stars one best values city</td>\n",
       "      <td>1</td>\n",
       "    </tr>\n",
       "    <tr>\n",
       "      <th>2</th>\n",
       "      <td>love pizzas sandwiches beer garden vibe. reall...</td>\n",
       "      <td>1</td>\n",
       "    </tr>\n",
       "    <tr>\n",
       "      <th>3</th>\n",
       "      <td>bartenders big tudes otherwise ok place. cool ...</td>\n",
       "      <td>0</td>\n",
       "    </tr>\n",
       "    <tr>\n",
       "      <th>4</th>\n",
       "      <td>came sushi hon late valentines day dinner so. ...</td>\n",
       "      <td>0</td>\n",
       "    </tr>\n",
       "  </tbody>\n",
       "</table>\n",
       "</div>"
      ],
      "text/plain": [
       "                                              Review  Sentiment\n",
       "0  awful place ive ever set foot in. still cannot...          0\n",
       "1  happy hour today. five stars one best values city          1\n",
       "2  love pizzas sandwiches beer garden vibe. reall...          1\n",
       "3  bartenders big tudes otherwise ok place. cool ...          0\n",
       "4  came sushi hon late valentines day dinner so. ...          0"
      ]
     },
     "execution_count": 9,
     "metadata": {},
     "output_type": "execute_result"
    }
   ],
   "source": [
    "from nltk.corpus import stopwords\n",
    "stop = stopwords.words('english')\n",
    "\n",
    "df['Review']=df['Review'].apply(lambda x: ' '.join([word for word in x.split() if word not in (stop)]))\n",
    "df.head()"
   ]
  },
  {
   "cell_type": "code",
   "execution_count": 10,
   "metadata": {},
   "outputs": [
    {
     "data": {
      "text/plain": [
       "'awful place ive ever set foot in. still cannot understand health department hasnt shut yet. gave chance even though place complete dump huge mistake. besides rusty kitchenware sticky menus lack ventilation service worst ive ever seen. lady taking orders rudest person ive ever met. rush order kept pushing check face didnt even get food yet eating there. another guy ordering go asked eat food flat said late. poor guy ended standing outside restaurant eating food. anyways sat boyfriend half hour watching people ordered us get food first. minutes later saw started cooking food completely fed up. got left. walked place good mood walked extremely irritated. ive never felt need write bad review restaurant even though bad experiences now.do eat completely disgusting service terrible food look good all.'"
      ]
     },
     "execution_count": 10,
     "metadata": {},
     "output_type": "execute_result"
    }
   ],
   "source": [
    "df['Review'][0]"
   ]
  },
  {
   "cell_type": "markdown",
   "metadata": {},
   "source": [
    "#### Word2Vec"
   ]
  },
  {
   "cell_type": "code",
   "execution_count": 11,
   "metadata": {},
   "outputs": [],
   "source": [
    "tmp_corpus = df['Review'].map(lambda x: x.split('.'))"
   ]
  },
  {
   "cell_type": "code",
   "execution_count": 13,
   "metadata": {},
   "outputs": [
    {
     "name": "stderr",
     "output_type": "stream",
     "text": [
      "100%|█████████████████████████████████████████████████████████████████████████| 12032/12032 [00:00<00:00, 21093.01it/s]\n"
     ]
    }
   ],
   "source": [
    "from tqdm import tqdm\n",
    "# corpus [[w1,w2,w3..],[..]]\n",
    "corpus = []\n",
    "for i in tqdm(range(len(tmp_corpus))):\n",
    "    for line in tmp_corpus[i]:\n",
    "        words = [x for x in line.split()]\n",
    "        corpus.append(words)"
   ]
  },
  {
   "cell_type": "code",
   "execution_count": 14,
   "metadata": {},
   "outputs": [
    {
     "name": "stdout",
     "output_type": "stream",
     "text": [
      "Num of sentences - 114743\n",
      "Num of words - 722489\n"
     ]
    }
   ],
   "source": [
    "num_of_sentences = len(corpus)\n",
    "num_of_words = 0\n",
    "for line in corpus:\n",
    "    num_of_words += len(line)\n",
    "\n",
    "print('Num of sentences - %s'%(num_of_sentences))\n",
    "print('Num of words - %s'%(num_of_words))"
   ]
  },
  {
   "cell_type": "code",
   "execution_count": 16,
   "metadata": {},
   "outputs": [],
   "source": [
    "from gensim.models import Word2Vec\n",
    "from gensim.models import Phrases\n",
    "from gensim.models.phrases import Phraser\n",
    "\n",
    "phrases = Phrases(sentences=corpus,min_count=25,threshold=50)\n",
    "bigram = Phraser(phrases)"
   ]
  },
  {
   "cell_type": "code",
   "execution_count": 17,
   "metadata": {},
   "outputs": [],
   "source": [
    "for index,sentence in enumerate(corpus):\n",
    "    corpus[index] = bigram[sentence]"
   ]
  },
  {
   "cell_type": "code",
   "execution_count": 18,
   "metadata": {},
   "outputs": [],
   "source": [
    "size = 100\n",
    "window_size = 2 # sentences weren't too long, so\n",
    "epochs = 50\n",
    "min_count = 2\n",
    "workers = 4\n",
    "\n",
    "# train word2vec model using gensim\n",
    "model = Word2Vec(corpus, sg=1,window=window_size,size=size,\n",
    "                 min_count=min_count,workers=workers,iter=epochs,sample=0.01)"
   ]
  },
  {
   "cell_type": "code",
   "execution_count": 25,
   "metadata": {},
   "outputs": [],
   "source": [
    "import random\n",
    "def shuffle_corpus(sentences):\n",
    "    shuffled = list(sentences)\n",
    "    random.shuffle(shuffled)\n",
    "    return shuffled\n",
    "\n",
    "model.build_vocab(sentences=shuffle_corpus(corpus),update=True)\n",
    "\n",
    "for i in range(5):\n",
    "    model.train(sentences=shuffle_corpus(corpus),epochs=5,total_examples=model.corpus_count)"
   ]
  },
  {
   "cell_type": "code",
   "execution_count": 26,
   "metadata": {},
   "outputs": [],
   "source": [
    "# save model\n",
    "model.save('w2v_model')"
   ]
  },
  {
   "cell_type": "code",
   "execution_count": 31,
   "metadata": {},
   "outputs": [
    {
     "name": "stderr",
     "output_type": "stream",
     "text": [
      "C:\\Users\\Raju\\Anaconda3\\lib\\site-packages\\ipykernel_launcher.py:1: DeprecationWarning: Call to deprecated `most_similar` (Method will be removed in 4.0.0, use self.wv.most_similar() instead).\n",
      "  \"\"\"Entry point for launching an IPython kernel.\n"
     ]
    },
    {
     "data": {
      "text/plain": [
       "[('hideously', 0.5824334621429443),\n",
       " ('bad', 0.5338049530982971),\n",
       " ('deplorable', 0.4887511134147644),\n",
       " ('floored', 0.4826033115386963),\n",
       " ('tainted', 0.47940629720687866)]"
      ]
     },
     "execution_count": 31,
     "metadata": {},
     "output_type": "execute_result"
    }
   ],
   "source": [
    "model.most_similar(positive=['awful'], topn=5)"
   ]
  },
  {
   "cell_type": "code",
   "execution_count": null,
   "metadata": {},
   "outputs": [],
   "source": []
  }
 ],
 "metadata": {
  "kernelspec": {
   "display_name": "Python 3",
   "language": "python",
   "name": "python3"
  },
  "language_info": {
   "codemirror_mode": {
    "name": "ipython",
    "version": 3
   },
   "file_extension": ".py",
   "mimetype": "text/x-python",
   "name": "python",
   "nbconvert_exporter": "python",
   "pygments_lexer": "ipython3",
   "version": "3.7.1"
  }
 },
 "nbformat": 4,
 "nbformat_minor": 2
}
